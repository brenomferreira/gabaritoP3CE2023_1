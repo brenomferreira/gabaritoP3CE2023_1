{
 "cells": [
  {
   "attachments": {},
   "cell_type": "markdown",
   "id": "e65b2174",
   "metadata": {},
   "source": [
    "# Setup\n",
    "preencha com os valores gerados para realizar a prova (obs: os ganhos na questçao 4 eram livres)"
   ]
  },
  {
   "cell_type": "code",
   "execution_count": 1,
   "id": "fdf87df5",
   "metadata": {},
   "outputs": [],
   "source": [
    "# Questão 01\n",
    "Rq1 = 1000\n",
    "\n",
    "# Questão 02\n",
    "Va = 1\n",
    "Vb = 10\n",
    "\n",
    "#Questão 03\n",
    "Rq3 = 10000\n",
    "\n",
    "# questão 04\n",
    "fcBaixa = 1000\n",
    "fcAlta = 125000\n",
    "G1 = 2\n",
    "G2 = 5"
   ]
  },
  {
   "cell_type": "code",
   "execution_count": 2,
   "id": "1fcdd158",
   "metadata": {},
   "outputs": [],
   "source": [
    "import numpy as np\n",
    "from engineering_notation import EngNumber\n",
    "import matplotlib.pyplot as plt\n",
    "from math import pi"
   ]
  },
  {
   "attachments": {},
   "cell_type": "markdown",
   "id": "d897eabe",
   "metadata": {},
   "source": [
    "# Questão 1"
   ]
  },
  {
   "cell_type": "code",
   "execution_count": 3,
   "id": "883c86dc",
   "metadata": {},
   "outputs": [
    {
     "name": "stdout",
     "output_type": "stream",
     "text": [
      "Divisor de tensão na entrada, valores: [0, 1, 10]V\n",
      "\n",
      "Amplificador não inversor\n",
      "Vin = 1\n",
      "R = 2k\n",
      "Rf = 1k\n",
      "Vo = (Rf/R + 1)*Vin\n",
      "Vo1 = 1.50V\n",
      "\n",
      "Amplificador Inversor\n",
      "Vin = 10\n",
      "R = 1k\n",
      "Rf = 2k\n",
      "Vo = -(Rf/R)*Vin\n",
      "Vo2 = -20V\n",
      "\n",
      "Amplificador somador inversor\n",
      "R1 = 10k\n",
      "R2 = 1k\n",
      "V1 = -20\n",
      "V2 = 1.50\n",
      "Rf = 20k\n",
      "Vo = -Rf * (V1/R1 + V2/R2)\n",
      "Vo3 = 10V\n"
     ]
    }
   ],
   "source": [
    "R = Rq1\n",
    "vin = 10\n",
    "\n",
    "VDivTens = [0,vin*1/(1+9),vin]\n",
    "\n",
    "print(f'Divisor de tensão na entrada, valores: [{EngNumber(VDivTens[0])}, {EngNumber(VDivTens[1])}, {EngNumber(VDivTens[2])}]V')\n",
    "\n",
    "# AmpOp1, Amplificador não inversor\n",
    "print()\n",
    "print('Amplificador não inversor')\n",
    "vin1 = VDivTens[1] # divisor de tensão\n",
    "R1 = 2*R \n",
    "Rf1 = R\n",
    "Vo1 = (Rf1/R1 + 1) * vin1\n",
    "print(f'Vin = {EngNumber(vin1)}')\n",
    "print(f'R = {EngNumber(R1)}')\n",
    "print(f'Rf = {EngNumber(Rf1)}')\n",
    "print('Vo = (Rf/R + 1)*Vin')\n",
    "print(f'Vo1 = {EngNumber(Vo1)}V')\n",
    "\n",
    "# AmpOp2, Amplificador inversor\n",
    "print()\n",
    "print('Amplificador Inversor')\n",
    "\n",
    "vin2 = VDivTens[2]\n",
    "R2 = R \n",
    "Rf2 = 2*R\n",
    "Vo2 = -(Rf2/R2) * vin2\n",
    "print(f'Vin = {EngNumber(vin2)}')\n",
    "print(f'R = {EngNumber(R2)}')\n",
    "print(f'Rf = {EngNumber(Rf2)}')\n",
    "print('Vo = -(Rf/R)*Vin')\n",
    "print(f'Vo2 = {EngNumber(Vo2)}V')\n",
    "\n",
    "\n",
    "# AmpOp3, Amplificador somador inversor\n",
    "print()\n",
    "print('Amplificador somador inversor')\n",
    "vin3a = Vo2\n",
    "vin3b = Vo1\n",
    "R3a = 10 *R \n",
    "R3b = R\n",
    "Rf3 = 20 * R\n",
    "Vo3 = -Rf3* (vin3a/R3a + vin3b/R3b)\n",
    "\n",
    "print(f'R1 = {EngNumber(R3a)}')\n",
    "print(f'R2 = {EngNumber(R3b)}')\n",
    "print(f'V1 = {EngNumber(vin3a)}')\n",
    "print(f'V2 = {EngNumber(vin3b)}')\n",
    "print(f'Rf = {EngNumber(Rf3)}')\n",
    "print('Vo = -Rf * (V1/R1 + V2/R2)')\n",
    "print(f'Vo3 = {EngNumber(Vo3)}V')"
   ]
  },
  {
   "attachments": {},
   "cell_type": "markdown",
   "id": "4b926e32",
   "metadata": {},
   "source": [
    "# Questão 2"
   ]
  },
  {
   "cell_type": "code",
   "execution_count": 4,
   "id": "60a49a0a",
   "metadata": {},
   "outputs": [],
   "source": [
    "VinMin = Va\n",
    "VinMax = Vb\n",
    "\n",
    "VoMax = 12\n",
    "VoMin = 0"
   ]
  },
  {
   "attachments": {},
   "cell_type": "markdown",
   "id": "2f713bda",
   "metadata": {},
   "source": [
    "## a) Comprador inversor"
   ]
  },
  {
   "cell_type": "code",
   "execution_count": 5,
   "id": "9c594295",
   "metadata": {},
   "outputs": [
    {
     "name": "stdout",
     "output_type": "stream",
     "text": [
      "R  = 1k\n",
      "Rf = 333.33\n",
      "Vref = 4V\n"
     ]
    }
   ],
   "source": [
    "R = 1e3 # escolha valor de R\n",
    "Rf = ((VoMax - VoMin)/(VinMax - VinMin) - 1)*R\n",
    "Vref = (-VoMin + VinMin*(1 + Rf/R))/ (Rf/R)\n",
    "\n",
    "print(f'R  = {EngNumber(R)}')\n",
    "print(f'Rf = {EngNumber(Rf)}')\n",
    "print(f'Vref = {EngNumber(Vref)}V')"
   ]
  },
  {
   "cell_type": "code",
   "execution_count": 6,
   "id": "346f806a",
   "metadata": {},
   "outputs": [
    {
     "data": {
      "image/png": "[encoded data removed]",
      "text/plain": [
       "<Figure size 432x288 with 1 Axes>"
      ]
     },
     "metadata": {
      "needs_background": "light"
     },
     "output_type": "display_data"
    },
    {
     "data": {
      "image/png": "[encoded data removed]",
      "text/plain": [
       "<Figure size 432x288 with 1 Axes>"
      ]
     },
     "metadata": {
      "needs_background": "light"
     },
     "output_type": "display_data"
    }
   ],
   "source": [
    "f = 60\n",
    "t = np.arange(0, 2*1/f, (1/f)*1e-3)\n",
    "A = (VinMax - VinMin)\n",
    "\n",
    "vin_vetor = A * np.sin(2*pi*f*t)  + (VinMax + VinMin)/2\n",
    "vo_vetor = np.zeros_like(vin_vetor)\n",
    "\n",
    "Vo = 0\n",
    "for i, vin in enumerate(vin_vetor):\n",
    "    vp = (Vo - Vref) * R / (R + Rf) + Vref\n",
    "    vn = vin\n",
    "    if vp > vn:\n",
    "        Vo = VoMax\n",
    "    else:\n",
    "        Vo = VoMin    \n",
    "    vo_vetor[i] = Vo\n",
    "\n",
    "plt.figure()\n",
    "\n",
    "plt.plot(t,vin_vetor, label='Vin')\n",
    "plt.plot(t,vo_vetor, label='Vo')\n",
    "plt.xlabel('tempo [s]')\n",
    "plt.ylabel('Volts')\n",
    "plt.legend()\n",
    "plt.grid()\n",
    "\n",
    "plt.figure()\n",
    "plt.plot (vin_vetor,vo_vetor)\n",
    "plt.xlabel('Vin [V]')\n",
    "plt.ylabel('Vo [V]')\n",
    "plt.grid()\n",
    "plt.show()"
   ]
  },
  {
   "attachments": {},
   "cell_type": "markdown",
   "id": "2b43d4c0",
   "metadata": {},
   "source": [
    "## b) comparador não inversor"
   ]
  },
  {
   "cell_type": "code",
   "execution_count": 7,
   "id": "e15945c2",
   "metadata": {},
   "outputs": [
    {
     "name": "stdout",
     "output_type": "stream",
     "text": [
      "R = 1k\n",
      "Rf = 1.33k\n",
      "Vref = 5.71V\n"
     ]
    }
   ],
   "source": [
    "R = R # escolha valor de R\n",
    "Rf = ((VoMax - VoMin)/(VinMax - VinMin))*R\n",
    "Vref = (VoMax - VinMin)*R/(R+Rf) + VinMin\n",
    "\n",
    "print(f'R = {EngNumber(R)}')\n",
    "print(f'Rf = {EngNumber(Rf)}')\n",
    "print(f'Vref = {EngNumber(Vref)}V')"
   ]
  },
  {
   "cell_type": "code",
   "execution_count": 8,
   "id": "ddea2255",
   "metadata": {},
   "outputs": [
    {
     "data": {
      "image/png": "[encoded data removed]",
      "text/plain": [
       "<Figure size 432x288 with 1 Axes>"
      ]
     },
     "metadata": {
      "needs_background": "light"
     },
     "output_type": "display_data"
    },
    {
     "data": {
      "image/png": "[encoded data removed]",
      "text/plain": [
       "<Figure size 432x288 with 1 Axes>"
      ]
     },
     "metadata": {
      "needs_background": "light"
     },
     "output_type": "display_data"
    }
   ],
   "source": [
    "f = 60\n",
    "t = np.arange(0, 2*1/f, (1/f)*1e-3)\n",
    "A = (VinMax - VinMin)\n",
    "\n",
    "vin_vetor = A * np.sin(2*pi*f*t)  + (VinMax + VinMin)/2\n",
    "vo_vetor = np.zeros_like(vin_vetor)\n",
    "\n",
    "Vo = 0\n",
    "for i, vin in enumerate(vin_vetor):\n",
    "    vp = (Vo - vin) * R / (R + Rf) + vin\n",
    "    vn = Vref\n",
    "    if vp > vn:\n",
    "        Vo = VoMax\n",
    "    else:\n",
    "        Vo = VoMin    \n",
    "    vo_vetor[i] = Vo\n",
    "\n",
    "plt.figure()\n",
    "\n",
    "plt.plot(t,vin_vetor, label='Vin')\n",
    "plt.plot(t,vo_vetor, label='Vo')\n",
    "plt.xlabel('tempo [s]')\n",
    "plt.ylabel('Volts')\n",
    "plt.legend()\n",
    "plt.grid()\n",
    "\n",
    "plt.figure()\n",
    "plt.plot (vin_vetor,vo_vetor)\n",
    "plt.xlabel('Vin [V]')\n",
    "plt.ylabel('Vo [V]')\n",
    "plt.grid()\n",
    "plt.show()"
   ]
  },
  {
   "attachments": {},
   "cell_type": "markdown",
   "id": "da04818d",
   "metadata": {},
   "source": [
    "# Questão 3\n",
    "## a) \n",
    "o bit menos significativo é o da esquerda\n",
    "\n",
    "## b)"
   ]
  },
  {
   "cell_type": "code",
   "execution_count": 9,
   "id": "26c67e14",
   "metadata": {},
   "outputs": [
    {
     "name": "stdout",
     "output_type": "stream",
     "text": [
      "Vth (ch aberta) = 187.50mV\n",
      "Vth (ch fechada) = 125mV\n",
      "resoluções:\n",
      "\t Vo (ch aberta) = 562.50mV\n",
      "\t Vo (ch fechada) = 375mV\n"
     ]
    }
   ],
   "source": [
    "# para descobrir a resolução, basta calcular para Vo = 3V, restante das fontes para 0V\n",
    "# o circuito equivalente para este caso fica (valor da entrada não inversora):\n",
    "# depois basta fazer o calculo da amplificação do Ampop (neste exercicio: amplificador não inversor vo = (rf/r + 1)*vin)\n",
    "R = Rq3\n",
    "\n",
    "Rth = R\n",
    "Vth_A = 3/16 \n",
    "Vth_F = 3/16 *  20000/(10000 + 20000) \n",
    "\n",
    "\n",
    "print(f'Vth (ch aberta) = {EngNumber(Vth_A)}V')\n",
    "print(f'Vth (ch fechada) = {EngNumber(Vth_F)}V')\n",
    "\n",
    "# calculo de vo\n",
    "\n",
    "rf = 20000\n",
    "r = 10000\n",
    "\n",
    "Vo_A = (rf/r + 1) * Vth_A \n",
    "Vo_F = (rf/r + 1) * Vth_F\n",
    "\n",
    "print('resoluções:')\n",
    "print(f'\\t Vo (ch aberta) = {EngNumber(Vo_A)}V')\n",
    "print(f'\\t Vo (ch fechada) = {EngNumber(Vo_F)}V')"
   ]
  },
  {
   "attachments": {},
   "cell_type": "markdown",
   "id": "23a2d092",
   "metadata": {},
   "source": [
    "## c)\n",
    "conversor D/A chave aberta"
   ]
  },
  {
   "cell_type": "code",
   "execution_count": 10,
   "id": "8fefbb13",
   "metadata": {},
   "outputs": [
    {
     "name": "stdout",
     "output_type": "stream",
     "text": [
      "0\t0.0\n",
      "1\t0.5625\n",
      "2\t1.125\n",
      "3\t1.6875\n",
      "4\t2.25\n",
      "5\t2.8125\n",
      "6\t3.375\n",
      "7\t3.9375\n",
      "8\t4.5\n",
      "9\t5.0625\n",
      "10\t5.625\n",
      "11\t6.1875\n",
      "12\t6.75\n",
      "13\t7.3125\n",
      "14\t7.875\n",
      "15\t8.4375\n"
     ]
    }
   ],
   "source": [
    "for i in np.arange(0,16,1):\n",
    "    print(f'{i}\\t{Vo_A * i}') "
   ]
  },
  {
   "attachments": {},
   "cell_type": "markdown",
   "id": "91bf3759",
   "metadata": {},
   "source": [
    "conversor D/A chave fechada"
   ]
  },
  {
   "cell_type": "code",
   "execution_count": 11,
   "id": "7386dcf1",
   "metadata": {},
   "outputs": [
    {
     "name": "stdout",
     "output_type": "stream",
     "text": [
      "\n",
      " conversor D/A chave fechada\n",
      "0\t0.0\n",
      "1\t0.375\n",
      "2\t0.75\n",
      "3\t1.125\n",
      "4\t1.5\n",
      "5\t1.875\n",
      "6\t2.25\n",
      "7\t2.625\n",
      "8\t3.0\n",
      "9\t3.375\n",
      "10\t3.75\n",
      "11\t4.125\n",
      "12\t4.5\n",
      "13\t4.875\n",
      "14\t5.25\n",
      "15\t5.625\n"
     ]
    }
   ],
   "source": [
    "print('\\n conversor D/A chave fechada')\n",
    "for i in np.arange(0,16,1):\n",
    "    print(f'{i}\\t{Vo_F * i}')"
   ]
  },
  {
   "attachments": {},
   "cell_type": "markdown",
   "id": "16266b6c",
   "metadata": {},
   "source": [
    "# Questão 4\n",
    "Obs: valores não comerciais"
   ]
  },
  {
   "cell_type": "code",
   "execution_count": 15,
   "id": "1dd02648",
   "metadata": {},
   "outputs": [
    {
     "name": "stdout",
     "output_type": "stream",
     "text": [
      "\n",
      "passa alta: R = 1.59k, C = 100n\n",
      "Rf = 3.18k\n",
      "R = 3.18k\n",
      "passa baixa: R = 1.59k, C = 800p\n",
      "Rf = 3.18k\n",
      "R = 795.77\n"
     ]
    }
   ],
   "source": [
    "def compFiltro(fc):\n",
    "    C = 10/fc*10e-6\n",
    "    R = 1/(2*pi*fc*C)\n",
    "    return R, C\n",
    "\n",
    "#circuito (1)\n",
    "fc1 = fcBaixa\n",
    "Rpa, Cpa = compFiltro(fc1)\n",
    "Rf = G1 * Rpa\n",
    "R = Rf/(G1-1)\n",
    "\n",
    "print()\n",
    "print(f'passa alta: R = {EngNumber(Rpa)}, C = {EngNumber(Cpa)}')\n",
    "print(f'Rf = {EngNumber(Rf)}')\n",
    "print(f'R = {EngNumber(R)}')\n",
    "\n",
    "#circuito (2)\n",
    "fc2 = fcAlta\n",
    "Rpb, Cpb = compFiltro(fc2)\n",
    "Rf = G1 * Rpb\n",
    "R = Rf/(G2-1)\n",
    "\n",
    "print(f'passa baixa: R = {EngNumber(Rpb)}, C = {EngNumber(Cpb)}')\n",
    "print(f'Rf = {EngNumber(Rf)}')\n",
    "print(f'R = {EngNumber(R)}')\n",
    "\n"
   ]
  },
  {
   "cell_type": "code",
   "execution_count": null,
   "id": "45255af6",
   "metadata": {},
   "outputs": [],
   "source": []
  }
 ],
 "metadata": {
  "kernelspec": {
   "display_name": "Python 3 (ipykernel)",
   "language": "python",
   "name": "python3"
  },
  "language_info": {
   "codemirror_mode": {
    "name": "ipython",
    "version": 3
   },
   "file_extension": ".py",
   "mimetype": "text/x-python",
   "name": "python",
   "nbconvert_exporter": "python",
   "pygments_lexer": "ipython3",
   "version": "3.10.6"
  }
 },
 "nbformat": 4,
 "nbformat_minor": 5
}
